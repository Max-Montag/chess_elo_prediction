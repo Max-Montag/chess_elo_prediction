{
 "cells": [
  {
   "cell_type": "code",
   "execution_count": 2,
   "metadata": {},
   "outputs": [],
   "source": [
    "import pandas as pd\n",
    "\n",
    "df = pd.read_csv(\"archive/games.csv\")\n",
    "df = df[[\"black_rating\",\"white_rating\",\"moves\",\"winner\"]]\n",
    "df.to_pickle(\"archive/games.pkl\")"
   ]
  },
  {
   "cell_type": "code",
   "execution_count": 5,
   "metadata": {},
   "outputs": [
    {
     "name": "stdout",
     "output_type": "stream",
     "text": [
      "   black_rating_scaled  white_rating_scaled  winner_encoded  \\\n",
      "0             0.437385             0.550863             1.0   \n",
      "1             0.463092             0.485494             0.0   \n",
      "2             0.550863             0.549394             1.0   \n",
      "3             0.533970             0.528461             1.0   \n",
      "4             0.539479             0.559310             1.0   \n",
      "\n",
      "                                       moves_encoded  \n",
      "0  [4152, 4154, 4089, 4094, 4132, 4223, 4197, 431...  \n",
      "1  [4152, 770, 4217, 4220, 4283, 4289, 4195, 4310...  \n",
      "2  [4217, 4220, 4150, 4157, 93, 4094, 90, 4030, 8...  \n",
      "3  [4152, 4154, 1039, 123, 761, 1049, 120, 1120, ...  \n",
      "4  [4217, 4220, 1039, 4157, 4152, 770, 4154, 701,...  \n"
     ]
    }
   ],
   "source": [
    "import pandas as pd\n",
    "\n",
    "df = pd.read_pickle(\"archive/games.pkl\")\n",
    "# print(df.head())\n",
    "max_rating = max(df[\"black_rating\"].max(), df[\"white_rating\"].max())\n",
    "df[\"black_rating_scaled\"] = df[\"black_rating\"] / max_rating\n",
    "df[\"white_rating_scaled\"] = df[\"white_rating\"] / max_rating\n",
    "df[\"winner_encoded\"] = df[\"winner\"].map({\"black\": 0, \"white\": 1})\n",
    "df[\"moves_tokenized\"] = df[\"moves\"].apply(lambda x: x.split())\n",
    "unique_moves = sorted(list(set(m for row in df[\"moves_tokenized\"] for m in row)))\n",
    "move_to_idx = {move: i for i, move in enumerate(unique_moves)}\n",
    "df[\"moves_encoded\"] = df[\"moves_tokenized\"].apply(lambda row: [move_to_idx[m] for m in row])\n",
    "df.drop(columns=[\"black_rating\", \"white_rating\", \"moves\", \"winner\", \"moves_tokenized\"], inplace=True)\n",
    "print(df.head())\n",
    "df.to_pickle(\"archive/games_prepared.pkl\")\n"
   ]
  }
 ],
 "metadata": {
  "kernelspec": {
   "display_name": "chess_env",
   "language": "python",
   "name": "python3"
  },
  "language_info": {
   "codemirror_mode": {
    "name": "ipython",
    "version": 3
   },
   "file_extension": ".py",
   "mimetype": "text/x-python",
   "name": "python",
   "nbconvert_exporter": "python",
   "pygments_lexer": "ipython3",
   "version": "3.13.2"
  }
 },
 "nbformat": 4,
 "nbformat_minor": 2
}
