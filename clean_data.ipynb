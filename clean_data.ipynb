{
 "cells": [
  {
   "cell_type": "code",
   "execution_count": 6,
   "metadata": {},
   "outputs": [],
   "source": [
    "import pandas as pd\n",
    "\n",
    "df = pd.read_csv(\"archive/games.csv\")\n",
    "df = df[[\"black_rating\",\"white_rating\",\"moves\",\"winner\"]] #, \"opening_eco\"]]\n",
    "df.to_pickle(\"archive/games.pkl\")"
   ]
  },
  {
   "cell_type": "code",
   "execution_count": 7,
   "metadata": {},
   "outputs": [
    {
     "name": "stdout",
     "output_type": "stream",
     "text": [
      "   black_rating  white_rating  \\\n",
      "0          1191          1500   \n",
      "1          1261          1322   \n",
      "2          1500          1496   \n",
      "3          1454          1439   \n",
      "4          1469          1523   \n",
      "\n",
      "                                               moves winner  \n",
      "0  d4 d5 c4 c6 cxd5 e6 dxe6 fxe6 Nf3 Bb4+ Nc3 Ba5...  white  \n",
      "1  d4 Nc6 e4 e5 f4 f6 dxe5 fxe5 fxe5 Nxe5 Qd4 Nc6...  black  \n",
      "2  e4 e5 d3 d6 Be3 c6 Be2 b5 Nd2 a5 a4 c5 axb5 Nc...  white  \n",
      "3  d4 d5 Nf3 Bf5 Nc3 Nf6 Bf4 Ng4 e3 Nc6 Be2 Qd7 O...  white  \n",
      "4  e4 e5 Nf3 d6 d4 Nc6 d5 Nb4 a3 Na6 Nc3 Be7 b4 N...  white  \n",
      "   black_rating_scaled  white_rating_scaled  winner_encoded  \\\n",
      "0             0.437385             0.550863               1   \n",
      "1             0.463092             0.485494               2   \n",
      "2             0.550863             0.549394               1   \n",
      "3             0.533970             0.528461               1   \n",
      "4             0.539479             0.559310               1   \n",
      "\n",
      "                                       moves_encoded  \n",
      "0  [4152, 4154, 4089, 4094, 4132, 4223, 4197, 431...  \n",
      "1  [4152, 770, 4217, 4220, 4283, 4289, 4195, 4310...  \n",
      "2  [4217, 4220, 4150, 4157, 93, 4094, 90, 4030, 8...  \n",
      "3  [4152, 4154, 1039, 123, 761, 1049, 120, 1120, ...  \n",
      "4  [4217, 4220, 1039, 4157, 4152, 770, 4154, 701,...  \n",
      "unique_moves 4447\n"
     ]
    }
   ],
   "source": [
    "df = pd.read_pickle(\"archive/games.pkl\")\n",
    "print(df.head())\n",
    "max_rating = max(df[\"black_rating\"].max(), df[\"white_rating\"].max())\n",
    "df[\"black_rating_scaled\"] = df[\"black_rating\"] / max_rating\n",
    "df[\"white_rating_scaled\"] = df[\"white_rating\"] / max_rating\n",
    "df[\"winner_encoded\"] = df[\"winner\"].map({\"draw\": 0, \"white\": 1, \"black\": 2})\n",
    "df[\"moves_tokenized\"] = df[\"moves\"].apply(lambda x: x.split())\n",
    "# unique_openings = sorted(list(set(df[\"opening_eco\"])))\n",
    "unique_moves = sorted(list(set(m for row in df[\"moves_tokenized\"] for m in row)))\n",
    "# opening_to_idx = {opening: i for i, opening in enumerate(unique_openings)}\n",
    "move_to_idx = {move: i for i, move in enumerate(unique_moves)}\n",
    "# df[\"opening_encoded\"] = df[\"opening_eco\"].map(opening_to_idx)\n",
    "df[\"moves_encoded\"] = df[\"moves_tokenized\"].apply(lambda row: [move_to_idx[m] for m in row])\n",
    "df.drop(columns=[\"black_rating\", \"white_rating\", \"moves\", \"winner\",\"moves_tokenized\"], inplace=True)\n",
    "print(df.head())\n",
    "# print(\"unique_openings\", len(unique_openings))\n",
    "print(\"unique_moves\", len(unique_moves))\n",
    "df.to_pickle(\"archive/games_prepared.pkl\")\n"
   ]
  },
  {
   "cell_type": "code",
   "execution_count": null,
   "metadata": {},
   "outputs": [
    {
     "name": "stdout",
     "output_type": "stream",
     "text": [
      "       black_rating_scaled  white_rating_scaled  winner_encoded  \\\n",
      "18607             0.614396             0.607786               2   \n",
      "9833              0.570327             0.629453               2   \n",
      "14071             0.578773             0.554903               0   \n",
      "19835             0.550863             0.550863               1   \n",
      "17036             0.510099             0.608520               2   \n",
      "\n",
      "                                           moves_encoded  \n",
      "18607  [4217, 4223, 1039, 4154, 4242, 1049, 761, 1295...  \n",
      "9833   [4152, 4352, 120, 152, 4214, 4094, 1039, 1426,...  \n",
      "14071  [4152, 4091, 4178, 4223, 93, 1049, 4280, 770, ...  \n",
      "19835  [4217, 4091, 48, 770, 1039, 1542, 4152, 4130, ...  \n",
      "17036  [4217, 4220, 1039, 4286, 761, 4154, 4242, 4217...  \n"
     ]
    }
   ],
   "source": [
    "# df = pd.read_pickle(\"archive/games_prepared.pkl\")\n",
    "# df = df.sample(100)\n",
    "# print(df.head())\n",
    "# df.to_pickle(\"archive/games_prepared_sample.pkl\")"
   ]
  },
  {
   "cell_type": "code",
   "execution_count": null,
   "metadata": {},
   "outputs": [
    {
     "name": "stdout",
     "output_type": "stream",
     "text": [
      "Train set size: 16046\n",
      "Test set size: 2006\n",
      "Validation set size: 2006\n"
     ]
    }
   ],
   "source": [
    "from sklearn.model_selection import train_test_split\n",
    "\n",
    "seed = 13\n",
    "\n",
    "train_df, temp_df = train_test_split(df, test_size=0.2, random_state=seed)\n",
    "test_df, val_df = train_test_split(temp_df, test_size=0.5, random_state=seed)\n",
    "train_df.to_pickle(\"archive/games_train.pkl\")\n",
    "test_df.to_pickle(\"archive/games_test.pkl\")\n",
    "val_df.to_pickle(\"archive/games_val.pkl\")\n",
    "\n",
    "print(f\"Train set size: {len(train_df)}\")\n",
    "print(f\"Test set size: {len(test_df)}\")\n",
    "print(f\"Validation set size: {len(val_df)}\")"
   ]
  },
  {
   "cell_type": "code",
   "execution_count": null,
   "metadata": {},
   "outputs": [],
   "source": [
    "# dont include the full game!! "
   ]
  }
 ],
 "metadata": {
  "kernelspec": {
   "display_name": "chess_env",
   "language": "python",
   "name": "python3"
  },
  "language_info": {
   "codemirror_mode": {
    "name": "ipython",
    "version": 3
   },
   "file_extension": ".py",
   "mimetype": "text/x-python",
   "name": "python",
   "nbconvert_exporter": "python",
   "pygments_lexer": "ipython3",
   "version": "3.13.2"
  }
 },
 "nbformat": 4,
 "nbformat_minor": 2
}
